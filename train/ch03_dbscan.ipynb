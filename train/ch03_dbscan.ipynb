{
 "cells": [
  {
   "cell_type": "code",
   "execution_count": 206,
   "id": "93a2b42a",
   "metadata": {},
   "outputs": [],
   "source": [
    "import numpy as np\n",
    "import pandas as pd\n",
    "import matplotlib.pyplot as plt\n",
    "\n",
    "from sklearn.decomposition import PCA\n",
    "from sklearn.cluster import DBSCAN\n",
    "from scipy import stats\n",
    "from sklearn.preprocessing import RobustScaler\n",
    "from sklearn.cluster import KMeans\n",
    "from sklearn.metrics import silhouette_score"
   ]
  },
  {
   "cell_type": "code",
   "execution_count": 207,
   "id": "8f711608",
   "metadata": {},
   "outputs": [],
   "source": [
    "#'dbscan.csv' pandas사용해서ㅕ 읽고 인덱스를 날짜 타입으로 변환"
   ]
  },
  {
   "cell_type": "code",
   "execution_count": null,
   "id": "fbcec53b",
   "metadata": {},
   "outputs": [],
   "source": []
  },
  {
   "cell_type": "code",
   "execution_count": 208,
   "id": "02fd4157",
   "metadata": {},
   "outputs": [],
   "source": [
    "df = pd.read_csv('dbscan.csv')"
   ]
  },
  {
   "cell_type": "code",
   "execution_count": 209,
   "id": "6339dfb0",
   "metadata": {},
   "outputs": [
    {
     "name": "stdout",
     "output_type": "stream",
     "text": [
      "<class 'pandas.core.frame.DataFrame'>\n",
      "RangeIndex: 1227 entries, 0 to 1226\n",
      "Data columns (total 8 columns):\n",
      " #   Column       Non-Null Count  Dtype  \n",
      "---  ------       --------------  -----  \n",
      " 0   Date         1227 non-null   object \n",
      " 1   KOSPI        1227 non-null   float64\n",
      " 2   S&P 500      1185 non-null   float64\n",
      " 3   Gold         1187 non-null   float64\n",
      " 4   Oil(WTI)     1187 non-null   float64\n",
      " 5   US 10Y Bond  1188 non-null   float64\n",
      " 6   KRW/USD      1225 non-null   float64\n",
      " 7   JPY/USD      1225 non-null   float64\n",
      "dtypes: float64(7), object(1)\n",
      "memory usage: 76.8+ KB\n"
     ]
    }
   ],
   "source": [
    "df.info()"
   ]
  },
  {
   "cell_type": "code",
   "execution_count": 210,
   "id": "049fb752",
   "metadata": {},
   "outputs": [],
   "source": [
    "#df.loc['Date'] = df['Date'].to_timestamp"
   ]
  },
  {
   "cell_type": "code",
   "execution_count": 211,
   "id": "4d21134f",
   "metadata": {},
   "outputs": [],
   "source": [
    "df['Date'] = pd.to_datetime(df['Date'])"
   ]
  },
  {
   "cell_type": "code",
   "execution_count": 212,
   "id": "efdf8dc2",
   "metadata": {},
   "outputs": [
    {
     "name": "stdout",
     "output_type": "stream",
     "text": [
      "<class 'pandas.core.frame.DataFrame'>\n",
      "RangeIndex: 1227 entries, 0 to 1226\n",
      "Data columns (total 8 columns):\n",
      " #   Column       Non-Null Count  Dtype         \n",
      "---  ------       --------------  -----         \n",
      " 0   Date         1227 non-null   datetime64[ns]\n",
      " 1   KOSPI        1227 non-null   float64       \n",
      " 2   S&P 500      1185 non-null   float64       \n",
      " 3   Gold         1187 non-null   float64       \n",
      " 4   Oil(WTI)     1187 non-null   float64       \n",
      " 5   US 10Y Bond  1188 non-null   float64       \n",
      " 6   KRW/USD      1225 non-null   float64       \n",
      " 7   JPY/USD      1225 non-null   float64       \n",
      "dtypes: datetime64[ns](1), float64(7)\n",
      "memory usage: 76.8 KB\n"
     ]
    }
   ],
   "source": [
    "df.info()"
   ]
  },
  {
   "cell_type": "code",
   "execution_count": 213,
   "id": "3ce80902",
   "metadata": {},
   "outputs": [
    {
     "data": {
      "text/html": [
       "<div>\n",
       "<style scoped>\n",
       "    .dataframe tbody tr th:only-of-type {\n",
       "        vertical-align: middle;\n",
       "    }\n",
       "\n",
       "    .dataframe tbody tr th {\n",
       "        vertical-align: top;\n",
       "    }\n",
       "\n",
       "    .dataframe thead th {\n",
       "        text-align: right;\n",
       "    }\n",
       "</style>\n",
       "<table border=\"1\" class=\"dataframe\">\n",
       "  <thead>\n",
       "    <tr style=\"text-align: right;\">\n",
       "      <th></th>\n",
       "      <th>KOSPI</th>\n",
       "      <th>S&amp;P 500</th>\n",
       "      <th>Gold</th>\n",
       "      <th>Oil(WTI)</th>\n",
       "      <th>US 10Y Bond</th>\n",
       "      <th>KRW/USD</th>\n",
       "      <th>JPY/USD</th>\n",
       "    </tr>\n",
       "    <tr>\n",
       "      <th>Date</th>\n",
       "      <th></th>\n",
       "      <th></th>\n",
       "      <th></th>\n",
       "      <th></th>\n",
       "      <th></th>\n",
       "      <th></th>\n",
       "      <th></th>\n",
       "    </tr>\n",
       "  </thead>\n",
       "  <tbody>\n",
       "    <tr>\n",
       "      <th>2020-05-15</th>\n",
       "      <td>1927.280029</td>\n",
       "      <td>2863.699951</td>\n",
       "      <td>1753.400024</td>\n",
       "      <td>29.430000</td>\n",
       "      <td>139.328125</td>\n",
       "      <td>1225.459961</td>\n",
       "      <td>107.364998</td>\n",
       "    </tr>\n",
       "    <tr>\n",
       "      <th>2020-05-18</th>\n",
       "      <td>1937.109985</td>\n",
       "      <td>2953.909912</td>\n",
       "      <td>1731.800049</td>\n",
       "      <td>31.820000</td>\n",
       "      <td>138.593750</td>\n",
       "      <td>1232.089966</td>\n",
       "      <td>107.208000</td>\n",
       "    </tr>\n",
       "    <tr>\n",
       "      <th>2020-05-19</th>\n",
       "      <td>1980.609985</td>\n",
       "      <td>2922.939941</td>\n",
       "      <td>1744.199951</td>\n",
       "      <td>32.500000</td>\n",
       "      <td>138.859375</td>\n",
       "      <td>1224.199951</td>\n",
       "      <td>107.380997</td>\n",
       "    </tr>\n",
       "    <tr>\n",
       "      <th>2020-05-20</th>\n",
       "      <td>1989.640015</td>\n",
       "      <td>2971.610107</td>\n",
       "      <td>1750.599976</td>\n",
       "      <td>33.490002</td>\n",
       "      <td>139.078125</td>\n",
       "      <td>1224.319946</td>\n",
       "      <td>107.809998</td>\n",
       "    </tr>\n",
       "    <tr>\n",
       "      <th>2020-05-21</th>\n",
       "      <td>1998.310059</td>\n",
       "      <td>2948.510010</td>\n",
       "      <td>1720.500000</td>\n",
       "      <td>33.919998</td>\n",
       "      <td>139.062500</td>\n",
       "      <td>1226.550049</td>\n",
       "      <td>107.591003</td>\n",
       "    </tr>\n",
       "    <tr>\n",
       "      <th>...</th>\n",
       "      <td>...</td>\n",
       "      <td>...</td>\n",
       "      <td>...</td>\n",
       "      <td>...</td>\n",
       "      <td>...</td>\n",
       "      <td>...</td>\n",
       "      <td>...</td>\n",
       "    </tr>\n",
       "    <tr>\n",
       "      <th>2025-05-09</th>\n",
       "      <td>2577.270020</td>\n",
       "      <td>5659.910156</td>\n",
       "      <td>3335.399902</td>\n",
       "      <td>61.020000</td>\n",
       "      <td>110.812500</td>\n",
       "      <td>1403.849976</td>\n",
       "      <td>146.014999</td>\n",
       "    </tr>\n",
       "    <tr>\n",
       "      <th>2025-05-12</th>\n",
       "      <td>2607.330078</td>\n",
       "      <td>5844.189941</td>\n",
       "      <td>3220.000000</td>\n",
       "      <td>61.950001</td>\n",
       "      <td>110.156250</td>\n",
       "      <td>1395.170044</td>\n",
       "      <td>145.811996</td>\n",
       "    </tr>\n",
       "    <tr>\n",
       "      <th>2025-05-13</th>\n",
       "      <td>2608.419922</td>\n",
       "      <td>5886.549805</td>\n",
       "      <td>3240.300049</td>\n",
       "      <td>63.669998</td>\n",
       "      <td>109.968750</td>\n",
       "      <td>1416.030029</td>\n",
       "      <td>148.309998</td>\n",
       "    </tr>\n",
       "    <tr>\n",
       "      <th>2025-05-14</th>\n",
       "      <td>2640.570068</td>\n",
       "      <td>5892.580078</td>\n",
       "      <td>3181.399902</td>\n",
       "      <td>63.150002</td>\n",
       "      <td>109.718750</td>\n",
       "      <td>1416.000000</td>\n",
       "      <td>147.528000</td>\n",
       "    </tr>\n",
       "    <tr>\n",
       "      <th>2025-05-15</th>\n",
       "      <td>2631.459961</td>\n",
       "      <td>NaN</td>\n",
       "      <td>3154.800049</td>\n",
       "      <td>61.720001</td>\n",
       "      <td>109.687500</td>\n",
       "      <td>1395.819946</td>\n",
       "      <td>146.009995</td>\n",
       "    </tr>\n",
       "  </tbody>\n",
       "</table>\n",
       "<p>1227 rows × 7 columns</p>\n",
       "</div>"
      ],
      "text/plain": [
       "                  KOSPI      S&P 500         Gold   Oil(WTI)  US 10Y Bond  \\\n",
       "Date                                                                        \n",
       "2020-05-15  1927.280029  2863.699951  1753.400024  29.430000   139.328125   \n",
       "2020-05-18  1937.109985  2953.909912  1731.800049  31.820000   138.593750   \n",
       "2020-05-19  1980.609985  2922.939941  1744.199951  32.500000   138.859375   \n",
       "2020-05-20  1989.640015  2971.610107  1750.599976  33.490002   139.078125   \n",
       "2020-05-21  1998.310059  2948.510010  1720.500000  33.919998   139.062500   \n",
       "...                 ...          ...          ...        ...          ...   \n",
       "2025-05-09  2577.270020  5659.910156  3335.399902  61.020000   110.812500   \n",
       "2025-05-12  2607.330078  5844.189941  3220.000000  61.950001   110.156250   \n",
       "2025-05-13  2608.419922  5886.549805  3240.300049  63.669998   109.968750   \n",
       "2025-05-14  2640.570068  5892.580078  3181.399902  63.150002   109.718750   \n",
       "2025-05-15  2631.459961          NaN  3154.800049  61.720001   109.687500   \n",
       "\n",
       "                KRW/USD     JPY/USD  \n",
       "Date                                 \n",
       "2020-05-15  1225.459961  107.364998  \n",
       "2020-05-18  1232.089966  107.208000  \n",
       "2020-05-19  1224.199951  107.380997  \n",
       "2020-05-20  1224.319946  107.809998  \n",
       "2020-05-21  1226.550049  107.591003  \n",
       "...                 ...         ...  \n",
       "2025-05-09  1403.849976  146.014999  \n",
       "2025-05-12  1395.170044  145.811996  \n",
       "2025-05-13  1416.030029  148.309998  \n",
       "2025-05-14  1416.000000  147.528000  \n",
       "2025-05-15  1395.819946  146.009995  \n",
       "\n",
       "[1227 rows x 7 columns]"
      ]
     },
     "execution_count": 213,
     "metadata": {},
     "output_type": "execute_result"
    }
   ],
   "source": [
    "df = df.set_index('Date')\n",
    "df"
   ]
  },
  {
   "cell_type": "code",
   "execution_count": 214,
   "id": "eaaa9a99",
   "metadata": {},
   "outputs": [
    {
     "data": {
      "text/plain": [
       "KOSPI           0\n",
       "S&P 500        42\n",
       "Gold           40\n",
       "Oil(WTI)       40\n",
       "US 10Y Bond    39\n",
       "KRW/USD         2\n",
       "JPY/USD         2\n",
       "dtype: int64"
      ]
     },
     "execution_count": 214,
     "metadata": {},
     "output_type": "execute_result"
    }
   ],
   "source": [
    "df.isnull().sum()"
   ]
  },
  {
   "cell_type": "code",
   "execution_count": 215,
   "id": "d278798e",
   "metadata": {},
   "outputs": [
    {
     "name": "stdout",
     "output_type": "stream",
     "text": [
      "<class 'pandas.core.frame.DataFrame'>\n",
      "DatetimeIndex: 1227 entries, 2020-05-15 to 2025-05-15\n",
      "Data columns (total 7 columns):\n",
      " #   Column       Non-Null Count  Dtype  \n",
      "---  ------       --------------  -----  \n",
      " 0   KOSPI        1227 non-null   float64\n",
      " 1   S&P 500      1185 non-null   float64\n",
      " 2   Gold         1187 non-null   float64\n",
      " 3   Oil(WTI)     1187 non-null   float64\n",
      " 4   US 10Y Bond  1188 non-null   float64\n",
      " 5   KRW/USD      1225 non-null   float64\n",
      " 6   JPY/USD      1225 non-null   float64\n",
      "dtypes: float64(7)\n",
      "memory usage: 76.7 KB\n"
     ]
    }
   ],
   "source": [
    "df.info()"
   ]
  },
  {
   "cell_type": "code",
   "execution_count": 216,
   "id": "5e840716",
   "metadata": {},
   "outputs": [],
   "source": [
    "#결측치를 적당히 보간법으로 채우는 함수\n",
    "#df = df.interpolate()\n",
    "#interpolate를 쓸려면 데이터가 선행 적이어야한다. 즉 시계열 데이터라서 갑자기 데이터가 높거나 떨어지지 않는 다는 가정을 한다.\n",
    "#앞에가 비었을 때는 밑에꺼 사용\n",
    "df = df.fillna(method='ffill')"
   ]
  },
  {
   "cell_type": "code",
   "execution_count": 217,
   "id": "e47e5d9d",
   "metadata": {},
   "outputs": [
    {
     "name": "stdout",
     "output_type": "stream",
     "text": [
      "<class 'pandas.core.frame.DataFrame'>\n",
      "DatetimeIndex: 1227 entries, 2020-05-15 to 2025-05-15\n",
      "Data columns (total 7 columns):\n",
      " #   Column       Non-Null Count  Dtype  \n",
      "---  ------       --------------  -----  \n",
      " 0   KOSPI        1227 non-null   float64\n",
      " 1   S&P 500      1227 non-null   float64\n",
      " 2   Gold         1227 non-null   float64\n",
      " 3   Oil(WTI)     1227 non-null   float64\n",
      " 4   US 10Y Bond  1227 non-null   float64\n",
      " 5   KRW/USD      1227 non-null   float64\n",
      " 6   JPY/USD      1227 non-null   float64\n",
      "dtypes: float64(7)\n",
      "memory usage: 76.7 KB\n"
     ]
    }
   ],
   "source": [
    "df.info()"
   ]
  },
  {
   "cell_type": "code",
   "execution_count": 218,
   "id": "1e97d37b",
   "metadata": {},
   "outputs": [],
   "source": [
    "#Q. 이상치 찾기"
   ]
  },
  {
   "cell_type": "code",
   "execution_count": 219,
   "id": "329bb55d",
   "metadata": {},
   "outputs": [],
   "source": [
    "# z_score = stats.zscore(df)\n",
    "# #abs 사용시 데이터가 모두 양수가 되므로 양수가 되면 안되는 수에서는 사용해서는 안된다.\n",
    "# abs_z_score = np.abs(z_score)\n",
    "# #3을 넘으면 뭔가 뾰족하다."
   ]
  },
  {
   "cell_type": "code",
   "execution_count": 220,
   "id": "48c1298e",
   "metadata": {},
   "outputs": [],
   "source": [
    "def remove_outliers(data, threshold=3):\n",
    "    z_score = stats.zscore(data)\n",
    "    abs_z_score = np.abs(z_score)\n",
    "    filtered_entries = (abs_z_score < 3).all(axis=1)\n",
    "    return data[filtered_entries]\n",
    "\n",
    "\n",
    "df_no_outliers = remove_outliers(df)"
   ]
  },
  {
   "cell_type": "code",
   "execution_count": 221,
   "id": "ee88a3bd",
   "metadata": {},
   "outputs": [
    {
     "data": {
      "text/html": [
       "<div>\n",
       "<style scoped>\n",
       "    .dataframe tbody tr th:only-of-type {\n",
       "        vertical-align: middle;\n",
       "    }\n",
       "\n",
       "    .dataframe tbody tr th {\n",
       "        vertical-align: top;\n",
       "    }\n",
       "\n",
       "    .dataframe thead th {\n",
       "        text-align: right;\n",
       "    }\n",
       "</style>\n",
       "<table border=\"1\" class=\"dataframe\">\n",
       "  <thead>\n",
       "    <tr style=\"text-align: right;\">\n",
       "      <th></th>\n",
       "      <th>KOSPI</th>\n",
       "      <th>S&amp;P 500</th>\n",
       "      <th>Gold</th>\n",
       "      <th>Oil(WTI)</th>\n",
       "      <th>US 10Y Bond</th>\n",
       "      <th>KRW/USD</th>\n",
       "      <th>JPY/USD</th>\n",
       "    </tr>\n",
       "    <tr>\n",
       "      <th>Date</th>\n",
       "      <th></th>\n",
       "      <th></th>\n",
       "      <th></th>\n",
       "      <th></th>\n",
       "      <th></th>\n",
       "      <th></th>\n",
       "      <th></th>\n",
       "    </tr>\n",
       "  </thead>\n",
       "  <tbody>\n",
       "    <tr>\n",
       "      <th>2020-05-15</th>\n",
       "      <td>1927.280029</td>\n",
       "      <td>2863.699951</td>\n",
       "      <td>1753.400024</td>\n",
       "      <td>29.430000</td>\n",
       "      <td>139.328125</td>\n",
       "      <td>1225.459961</td>\n",
       "      <td>107.364998</td>\n",
       "    </tr>\n",
       "    <tr>\n",
       "      <th>2020-05-18</th>\n",
       "      <td>1937.109985</td>\n",
       "      <td>2953.909912</td>\n",
       "      <td>1731.800049</td>\n",
       "      <td>31.820000</td>\n",
       "      <td>138.593750</td>\n",
       "      <td>1232.089966</td>\n",
       "      <td>107.208000</td>\n",
       "    </tr>\n",
       "    <tr>\n",
       "      <th>2020-05-19</th>\n",
       "      <td>1980.609985</td>\n",
       "      <td>2922.939941</td>\n",
       "      <td>1744.199951</td>\n",
       "      <td>32.500000</td>\n",
       "      <td>138.859375</td>\n",
       "      <td>1224.199951</td>\n",
       "      <td>107.380997</td>\n",
       "    </tr>\n",
       "    <tr>\n",
       "      <th>2020-05-20</th>\n",
       "      <td>1989.640015</td>\n",
       "      <td>2971.610107</td>\n",
       "      <td>1750.599976</td>\n",
       "      <td>33.490002</td>\n",
       "      <td>139.078125</td>\n",
       "      <td>1224.319946</td>\n",
       "      <td>107.809998</td>\n",
       "    </tr>\n",
       "    <tr>\n",
       "      <th>2020-05-21</th>\n",
       "      <td>1998.310059</td>\n",
       "      <td>2948.510010</td>\n",
       "      <td>1720.500000</td>\n",
       "      <td>33.919998</td>\n",
       "      <td>139.062500</td>\n",
       "      <td>1226.550049</td>\n",
       "      <td>107.591003</td>\n",
       "    </tr>\n",
       "    <tr>\n",
       "      <th>...</th>\n",
       "      <td>...</td>\n",
       "      <td>...</td>\n",
       "      <td>...</td>\n",
       "      <td>...</td>\n",
       "      <td>...</td>\n",
       "      <td>...</td>\n",
       "      <td>...</td>\n",
       "    </tr>\n",
       "    <tr>\n",
       "      <th>2025-04-03</th>\n",
       "      <td>2486.699951</td>\n",
       "      <td>5396.520020</td>\n",
       "      <td>3097.000000</td>\n",
       "      <td>66.949997</td>\n",
       "      <td>112.640625</td>\n",
       "      <td>1466.040039</td>\n",
       "      <td>147.871994</td>\n",
       "    </tr>\n",
       "    <tr>\n",
       "      <th>2025-04-04</th>\n",
       "      <td>2465.419922</td>\n",
       "      <td>5074.080078</td>\n",
       "      <td>3012.000000</td>\n",
       "      <td>61.990002</td>\n",
       "      <td>113.046875</td>\n",
       "      <td>1450.680054</td>\n",
       "      <td>146.231003</td>\n",
       "    </tr>\n",
       "    <tr>\n",
       "      <th>2025-04-07</th>\n",
       "      <td>2328.199951</td>\n",
       "      <td>5062.250000</td>\n",
       "      <td>2951.300049</td>\n",
       "      <td>60.700001</td>\n",
       "      <td>112.062500</td>\n",
       "      <td>1458.520020</td>\n",
       "      <td>145.432999</td>\n",
       "    </tr>\n",
       "    <tr>\n",
       "      <th>2025-04-08</th>\n",
       "      <td>2334.229980</td>\n",
       "      <td>4982.770020</td>\n",
       "      <td>2968.399902</td>\n",
       "      <td>59.580002</td>\n",
       "      <td>111.468750</td>\n",
       "      <td>1469.949951</td>\n",
       "      <td>147.789001</td>\n",
       "    </tr>\n",
       "    <tr>\n",
       "      <th>2025-04-09</th>\n",
       "      <td>2293.699951</td>\n",
       "      <td>5456.899902</td>\n",
       "      <td>3056.500000</td>\n",
       "      <td>62.349998</td>\n",
       "      <td>110.328125</td>\n",
       "      <td>1486.130005</td>\n",
       "      <td>145.845001</td>\n",
       "    </tr>\n",
       "  </tbody>\n",
       "</table>\n",
       "<p>1204 rows × 7 columns</p>\n",
       "</div>"
      ],
      "text/plain": [
       "                  KOSPI      S&P 500         Gold   Oil(WTI)  US 10Y Bond  \\\n",
       "Date                                                                        \n",
       "2020-05-15  1927.280029  2863.699951  1753.400024  29.430000   139.328125   \n",
       "2020-05-18  1937.109985  2953.909912  1731.800049  31.820000   138.593750   \n",
       "2020-05-19  1980.609985  2922.939941  1744.199951  32.500000   138.859375   \n",
       "2020-05-20  1989.640015  2971.610107  1750.599976  33.490002   139.078125   \n",
       "2020-05-21  1998.310059  2948.510010  1720.500000  33.919998   139.062500   \n",
       "...                 ...          ...          ...        ...          ...   \n",
       "2025-04-03  2486.699951  5396.520020  3097.000000  66.949997   112.640625   \n",
       "2025-04-04  2465.419922  5074.080078  3012.000000  61.990002   113.046875   \n",
       "2025-04-07  2328.199951  5062.250000  2951.300049  60.700001   112.062500   \n",
       "2025-04-08  2334.229980  4982.770020  2968.399902  59.580002   111.468750   \n",
       "2025-04-09  2293.699951  5456.899902  3056.500000  62.349998   110.328125   \n",
       "\n",
       "                KRW/USD     JPY/USD  \n",
       "Date                                 \n",
       "2020-05-15  1225.459961  107.364998  \n",
       "2020-05-18  1232.089966  107.208000  \n",
       "2020-05-19  1224.199951  107.380997  \n",
       "2020-05-20  1224.319946  107.809998  \n",
       "2020-05-21  1226.550049  107.591003  \n",
       "...                 ...         ...  \n",
       "2025-04-03  1466.040039  147.871994  \n",
       "2025-04-04  1450.680054  146.231003  \n",
       "2025-04-07  1458.520020  145.432999  \n",
       "2025-04-08  1469.949951  147.789001  \n",
       "2025-04-09  1486.130005  145.845001  \n",
       "\n",
       "[1204 rows x 7 columns]"
      ]
     },
     "execution_count": 221,
     "metadata": {},
     "output_type": "execute_result"
    }
   ],
   "source": [
    "df_no_outliers"
   ]
  },
  {
   "cell_type": "code",
   "execution_count": 222,
   "id": "8d919789",
   "metadata": {},
   "outputs": [
    {
     "data": {
      "text/html": [
       "<div>\n",
       "<style scoped>\n",
       "    .dataframe tbody tr th:only-of-type {\n",
       "        vertical-align: middle;\n",
       "    }\n",
       "\n",
       "    .dataframe tbody tr th {\n",
       "        vertical-align: top;\n",
       "    }\n",
       "\n",
       "    .dataframe thead th {\n",
       "        text-align: right;\n",
       "    }\n",
       "</style>\n",
       "<table border=\"1\" class=\"dataframe\">\n",
       "  <thead>\n",
       "    <tr style=\"text-align: right;\">\n",
       "      <th></th>\n",
       "      <th>KOSPI</th>\n",
       "      <th>S&amp;P 500</th>\n",
       "      <th>Gold</th>\n",
       "      <th>Oil(WTI)</th>\n",
       "      <th>US 10Y Bond</th>\n",
       "      <th>KRW/USD</th>\n",
       "      <th>JPY/USD</th>\n",
       "    </tr>\n",
       "    <tr>\n",
       "      <th>Date</th>\n",
       "      <th></th>\n",
       "      <th></th>\n",
       "      <th></th>\n",
       "      <th></th>\n",
       "      <th></th>\n",
       "      <th></th>\n",
       "      <th></th>\n",
       "    </tr>\n",
       "  </thead>\n",
       "  <tbody>\n",
       "    <tr>\n",
       "      <th>2020-05-18</th>\n",
       "      <td>0.005087</td>\n",
       "      <td>0.031015</td>\n",
       "      <td>-0.012395</td>\n",
       "      <td>0.078080</td>\n",
       "      <td>-0.005285</td>\n",
       "      <td>0.005396</td>\n",
       "      <td>-0.001463</td>\n",
       "    </tr>\n",
       "    <tr>\n",
       "      <th>2020-05-19</th>\n",
       "      <td>0.022208</td>\n",
       "      <td>-0.010540</td>\n",
       "      <td>0.007135</td>\n",
       "      <td>0.021145</td>\n",
       "      <td>0.001915</td>\n",
       "      <td>-0.006424</td>\n",
       "      <td>0.001612</td>\n",
       "    </tr>\n",
       "    <tr>\n",
       "      <th>2020-05-20</th>\n",
       "      <td>0.004549</td>\n",
       "      <td>0.016514</td>\n",
       "      <td>0.003663</td>\n",
       "      <td>0.030007</td>\n",
       "      <td>0.001574</td>\n",
       "      <td>0.000098</td>\n",
       "      <td>0.003987</td>\n",
       "    </tr>\n",
       "    <tr>\n",
       "      <th>2020-05-21</th>\n",
       "      <td>0.004348</td>\n",
       "      <td>-0.007804</td>\n",
       "      <td>-0.017344</td>\n",
       "      <td>0.012758</td>\n",
       "      <td>-0.000112</td>\n",
       "      <td>0.001820</td>\n",
       "      <td>-0.002033</td>\n",
       "    </tr>\n",
       "    <tr>\n",
       "      <th>2020-05-22</th>\n",
       "      <td>-0.014202</td>\n",
       "      <td>0.002351</td>\n",
       "      <td>0.008162</td>\n",
       "      <td>-0.019950</td>\n",
       "      <td>0.000674</td>\n",
       "      <td>0.005561</td>\n",
       "      <td>0.000372</td>\n",
       "    </tr>\n",
       "    <tr>\n",
       "      <th>...</th>\n",
       "      <td>...</td>\n",
       "      <td>...</td>\n",
       "      <td>...</td>\n",
       "      <td>...</td>\n",
       "      <td>...</td>\n",
       "      <td>...</td>\n",
       "      <td>...</td>\n",
       "    </tr>\n",
       "    <tr>\n",
       "      <th>2025-04-03</th>\n",
       "      <td>-0.007676</td>\n",
       "      <td>-0.049606</td>\n",
       "      <td>-0.013757</td>\n",
       "      <td>-0.068684</td>\n",
       "      <td>0.010178</td>\n",
       "      <td>-0.002677</td>\n",
       "      <td>-0.012841</td>\n",
       "    </tr>\n",
       "    <tr>\n",
       "      <th>2025-04-04</th>\n",
       "      <td>-0.008594</td>\n",
       "      <td>-0.061609</td>\n",
       "      <td>-0.027830</td>\n",
       "      <td>-0.076973</td>\n",
       "      <td>0.003600</td>\n",
       "      <td>-0.010532</td>\n",
       "      <td>-0.011159</td>\n",
       "    </tr>\n",
       "    <tr>\n",
       "      <th>2025-04-07</th>\n",
       "      <td>-0.057267</td>\n",
       "      <td>-0.002334</td>\n",
       "      <td>-0.020359</td>\n",
       "      <td>-0.021029</td>\n",
       "      <td>-0.008746</td>\n",
       "      <td>0.005390</td>\n",
       "      <td>-0.005472</td>\n",
       "    </tr>\n",
       "    <tr>\n",
       "      <th>2025-04-08</th>\n",
       "      <td>0.002587</td>\n",
       "      <td>-0.015825</td>\n",
       "      <td>0.005777</td>\n",
       "      <td>-0.018624</td>\n",
       "      <td>-0.005312</td>\n",
       "      <td>0.007806</td>\n",
       "      <td>0.016070</td>\n",
       "    </tr>\n",
       "    <tr>\n",
       "      <th>2025-04-09</th>\n",
       "      <td>-0.017516</td>\n",
       "      <td>0.090895</td>\n",
       "      <td>0.029247</td>\n",
       "      <td>0.045444</td>\n",
       "      <td>-0.010285</td>\n",
       "      <td>0.010947</td>\n",
       "      <td>-0.013241</td>\n",
       "    </tr>\n",
       "  </tbody>\n",
       "</table>\n",
       "<p>1203 rows × 7 columns</p>\n",
       "</div>"
      ],
      "text/plain": [
       "               KOSPI   S&P 500      Gold  Oil(WTI)  US 10Y Bond   KRW/USD  \\\n",
       "Date                                                                        \n",
       "2020-05-18  0.005087  0.031015 -0.012395  0.078080    -0.005285  0.005396   \n",
       "2020-05-19  0.022208 -0.010540  0.007135  0.021145     0.001915 -0.006424   \n",
       "2020-05-20  0.004549  0.016514  0.003663  0.030007     0.001574  0.000098   \n",
       "2020-05-21  0.004348 -0.007804 -0.017344  0.012758    -0.000112  0.001820   \n",
       "2020-05-22 -0.014202  0.002351  0.008162 -0.019950     0.000674  0.005561   \n",
       "...              ...       ...       ...       ...          ...       ...   \n",
       "2025-04-03 -0.007676 -0.049606 -0.013757 -0.068684     0.010178 -0.002677   \n",
       "2025-04-04 -0.008594 -0.061609 -0.027830 -0.076973     0.003600 -0.010532   \n",
       "2025-04-07 -0.057267 -0.002334 -0.020359 -0.021029    -0.008746  0.005390   \n",
       "2025-04-08  0.002587 -0.015825  0.005777 -0.018624    -0.005312  0.007806   \n",
       "2025-04-09 -0.017516  0.090895  0.029247  0.045444    -0.010285  0.010947   \n",
       "\n",
       "             JPY/USD  \n",
       "Date                  \n",
       "2020-05-18 -0.001463  \n",
       "2020-05-19  0.001612  \n",
       "2020-05-20  0.003987  \n",
       "2020-05-21 -0.002033  \n",
       "2020-05-22  0.000372  \n",
       "...              ...  \n",
       "2025-04-03 -0.012841  \n",
       "2025-04-04 -0.011159  \n",
       "2025-04-07 -0.005472  \n",
       "2025-04-08  0.016070  \n",
       "2025-04-09 -0.013241  \n",
       "\n",
       "[1203 rows x 7 columns]"
      ]
     },
     "execution_count": 222,
     "metadata": {},
     "output_type": "execute_result"
    }
   ],
   "source": [
    "#전날과 다음날을 비교하는 방법인데 날짜 데이터는 특히나 조심해야한다.\n",
    "returns = np.log(df_no_outliers / df_no_outliers.shift(1)).dropna()\n",
    "returns"
   ]
  },
  {
   "cell_type": "code",
   "execution_count": 223,
   "id": "7c8e3e1e",
   "metadata": {},
   "outputs": [
    {
     "data": {
      "text/html": [
       "<div>\n",
       "<style scoped>\n",
       "    .dataframe tbody tr th:only-of-type {\n",
       "        vertical-align: middle;\n",
       "    }\n",
       "\n",
       "    .dataframe tbody tr th {\n",
       "        vertical-align: top;\n",
       "    }\n",
       "\n",
       "    .dataframe thead th {\n",
       "        text-align: right;\n",
       "    }\n",
       "</style>\n",
       "<table border=\"1\" class=\"dataframe\">\n",
       "  <thead>\n",
       "    <tr style=\"text-align: right;\">\n",
       "      <th></th>\n",
       "      <th>KOSPI</th>\n",
       "      <th>S&amp;P 500</th>\n",
       "      <th>Gold</th>\n",
       "      <th>Oil(WTI)</th>\n",
       "      <th>US 10Y Bond</th>\n",
       "      <th>KRW/USD</th>\n",
       "      <th>JPY/USD</th>\n",
       "    </tr>\n",
       "  </thead>\n",
       "  <tbody>\n",
       "    <tr>\n",
       "      <th>KOSPI</th>\n",
       "      <td>1.000000</td>\n",
       "      <td>0.176979</td>\n",
       "      <td>0.094750</td>\n",
       "      <td>0.107874</td>\n",
       "      <td>-0.038090</td>\n",
       "      <td>-0.227364</td>\n",
       "      <td>-0.039115</td>\n",
       "    </tr>\n",
       "    <tr>\n",
       "      <th>S&amp;P 500</th>\n",
       "      <td>0.176979</td>\n",
       "      <td>1.000000</td>\n",
       "      <td>0.125040</td>\n",
       "      <td>0.217118</td>\n",
       "      <td>0.030009</td>\n",
       "      <td>0.002459</td>\n",
       "      <td>0.035489</td>\n",
       "    </tr>\n",
       "    <tr>\n",
       "      <th>Gold</th>\n",
       "      <td>0.094750</td>\n",
       "      <td>0.125040</td>\n",
       "      <td>1.000000</td>\n",
       "      <td>0.155471</td>\n",
       "      <td>0.319805</td>\n",
       "      <td>-0.049699</td>\n",
       "      <td>-0.015281</td>\n",
       "    </tr>\n",
       "    <tr>\n",
       "      <th>Oil(WTI)</th>\n",
       "      <td>0.107874</td>\n",
       "      <td>0.217118</td>\n",
       "      <td>0.155471</td>\n",
       "      <td>1.000000</td>\n",
       "      <td>-0.144744</td>\n",
       "      <td>0.003451</td>\n",
       "      <td>-0.019791</td>\n",
       "    </tr>\n",
       "    <tr>\n",
       "      <th>US 10Y Bond</th>\n",
       "      <td>-0.038090</td>\n",
       "      <td>0.030009</td>\n",
       "      <td>0.319805</td>\n",
       "      <td>-0.144744</td>\n",
       "      <td>1.000000</td>\n",
       "      <td>-0.075264</td>\n",
       "      <td>-0.050302</td>\n",
       "    </tr>\n",
       "    <tr>\n",
       "      <th>KRW/USD</th>\n",
       "      <td>-0.227364</td>\n",
       "      <td>0.002459</td>\n",
       "      <td>-0.049699</td>\n",
       "      <td>0.003451</td>\n",
       "      <td>-0.075264</td>\n",
       "      <td>1.000000</td>\n",
       "      <td>0.361346</td>\n",
       "    </tr>\n",
       "    <tr>\n",
       "      <th>JPY/USD</th>\n",
       "      <td>-0.039115</td>\n",
       "      <td>0.035489</td>\n",
       "      <td>-0.015281</td>\n",
       "      <td>-0.019791</td>\n",
       "      <td>-0.050302</td>\n",
       "      <td>0.361346</td>\n",
       "      <td>1.000000</td>\n",
       "    </tr>\n",
       "  </tbody>\n",
       "</table>\n",
       "</div>"
      ],
      "text/plain": [
       "                KOSPI   S&P 500      Gold  Oil(WTI)  US 10Y Bond   KRW/USD  \\\n",
       "KOSPI        1.000000  0.176979  0.094750  0.107874    -0.038090 -0.227364   \n",
       "S&P 500      0.176979  1.000000  0.125040  0.217118     0.030009  0.002459   \n",
       "Gold         0.094750  0.125040  1.000000  0.155471     0.319805 -0.049699   \n",
       "Oil(WTI)     0.107874  0.217118  0.155471  1.000000    -0.144744  0.003451   \n",
       "US 10Y Bond -0.038090  0.030009  0.319805 -0.144744     1.000000 -0.075264   \n",
       "KRW/USD     -0.227364  0.002459 -0.049699  0.003451    -0.075264  1.000000   \n",
       "JPY/USD     -0.039115  0.035489 -0.015281 -0.019791    -0.050302  0.361346   \n",
       "\n",
       "              JPY/USD  \n",
       "KOSPI       -0.039115  \n",
       "S&P 500      0.035489  \n",
       "Gold        -0.015281  \n",
       "Oil(WTI)    -0.019791  \n",
       "US 10Y Bond -0.050302  \n",
       "KRW/USD      0.361346  \n",
       "JPY/USD      1.000000  "
      ]
     },
     "execution_count": 223,
     "metadata": {},
     "output_type": "execute_result"
    }
   ],
   "source": [
    "#상관관계!!!\n",
    "returns.corr()"
   ]
  },
  {
   "cell_type": "code",
   "execution_count": 224,
   "id": "67042c91",
   "metadata": {},
   "outputs": [],
   "source": [
    "#Q 04 스케일 조정을 합시다.\n"
   ]
  },
  {
   "cell_type": "code",
   "execution_count": 225,
   "id": "db52fc5d",
   "metadata": {},
   "outputs": [],
   "source": [
    "scaler = RobustScaler()\n",
    "scaler_returns = scaler.fit_transform(returns)"
   ]
  },
  {
   "cell_type": "code",
   "execution_count": 226,
   "id": "a0a596ec",
   "metadata": {},
   "outputs": [],
   "source": [
    "#Q 05"
   ]
  },
  {
   "cell_type": "code",
   "execution_count": 227,
   "id": "ba1aca32",
   "metadata": {},
   "outputs": [],
   "source": [
    "#05 K-Means의 K를 찾아보자"
   ]
  },
  {
   "cell_type": "code",
   "execution_count": 228,
   "id": "eaf1e9a5",
   "metadata": {},
   "outputs": [],
   "source": [
    "\n",
    "#평가를 위한 점수\n",
    "#비지도를 평가하기 위해서 통계치를 기반으로 모델을 평가하는 방법\n",
    "inertia = []\n",
    "silhoustte_scores = []\n",
    "k_range = range(2,10)\n",
    "\n",
    "for k in k_range:\n",
    "    #KMeans 매개변수를 설정\n",
    "    kmeans = KMeans(n_clusters=k, n_init=10, random_state=42)\n",
    "    kmeans_labels = kmeans.fit_predict(scaler_returns)\n",
    "    inertia.append(kmeans.inertia_)\n",
    "    silhoustte_scores.append(silhouette_score(scaler_returns,kmeans_labels))\n",
    "    #예측\n",
    "    #silhousette_scores를 측정\n",
    "    #k값이 중요\n",
    "    pass"
   ]
  },
  {
   "cell_type": "code",
   "execution_count": 229,
   "id": "2f966ca2",
   "metadata": {},
   "outputs": [
    {
     "data": {
      "text/plain": [
       "[6186.462272138323,\n",
       " 5654.318760300401,\n",
       " 5257.784371812895,\n",
       " 4972.9130628279145,\n",
       " 4752.036238181909,\n",
       " 4552.9941452205085,\n",
       " 4388.195980573257,\n",
       " 4221.46043064225]"
      ]
     },
     "execution_count": 229,
     "metadata": {},
     "output_type": "execute_result"
    }
   ],
   "source": [
    "inertia"
   ]
  },
  {
   "cell_type": "code",
   "execution_count": 230,
   "id": "95cbc145",
   "metadata": {},
   "outputs": [
    {
     "data": {
      "text/plain": [
       "[<matplotlib.lines.Line2D at 0x212347b7190>]"
      ]
     },
     "execution_count": 230,
     "metadata": {},
     "output_type": "execute_result"
    },
    {
     "data": {
      "image/png": "[encoded data removed]",
      "text/plain": [
       "<Figure size 1200x500 with 1 Axes>"
      ]
     },
     "metadata": {},
     "output_type": "display_data"
    }
   ],
   "source": [
    "plt.figure(figsize=(12,5))\n",
    "plt.plot(k_range,inertia, \"o-\")"
   ]
  },
  {
   "cell_type": "code",
   "execution_count": 231,
   "id": "b7d0e120",
   "metadata": {},
   "outputs": [
    {
     "data": {
      "text/plain": [
       "[<matplotlib.lines.Line2D at 0x21235115370>]"
      ]
     },
     "execution_count": 231,
     "metadata": {},
     "output_type": "execute_result"
    },
    {
     "data": {
      "image/png": "[encoded data removed]",
      "text/plain": [
       "<Figure size 1200x500 with 1 Axes>"
      ]
     },
     "metadata": {},
     "output_type": "display_data"
    }
   ],
   "source": [
    "plt.figure(figsize=(12,5))\n",
    "plt.plot(k_range,silhoustte_scores, \"o-\")"
   ]
  },
  {
   "cell_type": "code",
   "execution_count": 232,
   "id": "b6eec41f",
   "metadata": {},
   "outputs": [],
   "source": [
    "#Q DBSCAN"
   ]
  },
  {
   "cell_type": "code",
   "execution_count": 233,
   "id": "c29755a6",
   "metadata": {},
   "outputs": [],
   "source": [
    "eps_range = np.arange(0.3,1.5,0.1)\n",
    "min_samples_range = [3,5,7,10]\n",
    "best_silhoustte = -1\n",
    "best_eps = 0\n",
    "best_min_sample = 0"
   ]
  },
  {
   "cell_type": "code",
   "execution_count": 234,
   "id": "781d17d0",
   "metadata": {},
   "outputs": [],
   "source": [
    "\n",
    "\n",
    "for eps in eps_range:\n",
    "    for min_samples in min_samples_range:\n",
    "        dbscan = DBSCAN(eps=eps,min_samples=min_samples)\n",
    "        dbscan_labels = dbscan.fit_predict(scaler_returns)\n",
    "        #최소한 클러스터는 1개 이상, 모든 포인트가 -1이 아니었으면 좋겠음\n",
    "        n_clusters = len(set(dbscan_labels)) - (1 if -1 in dbscan_labels else 0)\n",
    "        if n_clusters > 1 and np.sum(dbscan_labels != -1) > 10:\n",
    "            non_noise_idx = dbscan_labels != -1\n",
    "            if np.sum(non_noise_idx) > 1:\n",
    "                score = silhouette_score(scaler_returns[non_noise_idx], dbscan_labels[non_noise_idx])\n",
    "                if score > best_silhoustte:\n",
    "                    best_silhoustte = score\n",
    "                    best_eps = eps\n",
    "                    best_min_sample = min_samples\n",
    "                "
   ]
  },
  {
   "cell_type": "code",
   "execution_count": 235,
   "id": "8ec44d74",
   "metadata": {},
   "outputs": [
    {
     "name": "stdout",
     "output_type": "stream",
     "text": [
      "0.2599957774510234 1.4000000000000004 5\n"
     ]
    }
   ],
   "source": [
    "print(best_silhoustte, best_eps, best_min_sample)"
   ]
  },
  {
   "cell_type": "code",
   "execution_count": 236,
   "id": "558badbd",
   "metadata": {},
   "outputs": [],
   "source": [
    "kmeans = KMeans(n_clusters=best_min_sample, n_init=10, random_state=42)\n",
    "kmeans_labels = kmeans.fit_predict(scaler_returns)"
   ]
  },
  {
   "cell_type": "code",
   "execution_count": 237,
   "id": "d8ced101",
   "metadata": {},
   "outputs": [],
   "source": [
    "dbscan = DBSCAN(eps=1.4,min_samples=5)\n",
    "dbscan_labels = dbscan.fit_predict(scaler_returns)"
   ]
  },
  {
   "cell_type": "code",
   "execution_count": 239,
   "id": "34387e54",
   "metadata": {},
   "outputs": [
    {
     "data": {
      "text/plain": [
       "array([0.22161609, 0.20190669])"
      ]
     },
     "execution_count": 239,
     "metadata": {},
     "output_type": "execute_result"
    }
   ],
   "source": [
    "pca = PCA(n_components=2)\n",
    "pca_components = pca.fit_transform(scaler_returns)\n",
    "pca.explained_variance_ratio_"
   ]
  },
  {
   "cell_type": "code",
   "execution_count": 242,
   "id": "2e2b38c8",
   "metadata": {},
   "outputs": [
    {
     "data": {
      "text/plain": [
       "<matplotlib.collections.PathCollection at 0x212351ce760>"
      ]
     },
     "execution_count": 242,
     "metadata": {},
     "output_type": "execute_result"
    },
    {
     "data": {
      "image/png": "[encoded data removed]",
      "text/plain": [
       "<Figure size 640x480 with 1 Axes>"
      ]
     },
     "metadata": {},
     "output_type": "display_data"
    }
   ],
   "source": [
    "plt.scatter(pca_components[:,0],pca_components[:,1],c=kmeans_labels, cmap='viridis')"
   ]
  },
  {
   "cell_type": "code",
   "execution_count": 243,
   "id": "e3b563a7",
   "metadata": {},
   "outputs": [
    {
     "data": {
      "text/plain": [
       "<matplotlib.collections.PathCollection at 0x2123528e250>"
      ]
     },
     "execution_count": 243,
     "metadata": {},
     "output_type": "execute_result"
    },
    {
     "data": {
      "image/png": "[encoded data removed]",
      "text/plain": [
       "<Figure size 640x480 with 1 Axes>"
      ]
     },
     "metadata": {},
     "output_type": "display_data"
    }
   ],
   "source": [
    "plt.scatter(pca_components[:,0],pca_components[:,1],c=dbscan_labels,cmap='viridis')"
   ]
  },
  {
   "cell_type": "code",
   "execution_count": null,
   "id": "a4c65bd7",
   "metadata": {},
   "outputs": [],
   "source": [
    "for i in range(5):\n",
    "    mask = kmeans_labels == i\n",
    "    center = np.mean(pca_components[mask], axis=0)\n",
    "    plt.annotate(\n",
    "        f\"C\"\n",
    "    )"
   ]
  }
 ],
 "metadata": {
  "kernelspec": {
   "display_name": ".venv",
   "language": "python",
   "name": "python3"
  },
  "language_info": {
   "codemirror_mode": {
    "name": "ipython",
    "version": 3
   },
   "file_extension": ".py",
   "mimetype": "text/x-python",
   "name": "python",
   "nbconvert_exporter": "python",
   "pygments_lexer": "ipython3",
   "version": "3.9.13"
  }
 },
 "nbformat": 4,
 "nbformat_minor": 5
}
