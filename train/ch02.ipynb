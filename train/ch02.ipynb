{
 "cells": [
  {
   "cell_type": "code",
   "execution_count": null,
   "id": "dd73722f",
   "metadata": {},
   "outputs": [],
   "source": [
    "from sklearn.datasets import load_iris\n",
    "from sklearn.model_selection import train_test_split\n",
    "import numpy as np\n",
    "from sklearn.datasets import load_breast_cancer\n",
    "import mglearn\n",
    "from sklearn.datasets import fetch_california_housing\n",
    "from sklearn.neighbors import KNeighborsRegressor\n",
    "from sklearn.metrics import mean_squared_error\n",
    "import matplotlib.pyplot as plt\n",
    "from sklearn.preprocessing import StandardScaler\n",
    "from sklearn.metrics import roc_auc_score\n",
    "from sklearn.linear_model import LogisticRegression\n",
    "from sklearn.naive_bayes import GaussianNB"
   ]
  },
  {
   "cell_type": "code",
   "execution_count": null,
   "id": "dcdcbe78",
   "metadata": {},
   "outputs": [],
   "source": [
    "\n",
    "iris = load_iris()\n",
    "X, y = iris[\"data\"], iris[\"target\"]\n"
   ]
  },
  {
   "cell_type": "code",
   "execution_count": null,
   "id": "929515f9",
   "metadata": {},
   "outputs": [],
   "source": [
    "X_train,X_test,y_train,y_test = train_test_split(X_scaled,y,random_state=42)\n",
    "print(X_train,X_test,y_train,y_test)"
   ]
  },
  {
   "cell_type": "code",
   "execution_count": null,
   "id": "cd9bed5e",
   "metadata": {},
   "outputs": [],
   "source": [
    "from sklearn.neighbors import KNeighborsClassifier\n",
    "knn = KNeighborsClassifier()\n",
    "knn.fit(X_train,y_train)"
   ]
  },
  {
   "cell_type": "code",
   "execution_count": null,
   "id": "99cc6c0b",
   "metadata": {},
   "outputs": [],
   "source": [
    "y_pred = knn.predict(X_test)\n",
    "print(knn.score(X_test,y_test))\n",
    "print(np.mean(y_pred == y_test))"
   ]
  },
  {
   "cell_type": "code",
   "execution_count": null,
   "id": "09531171",
   "metadata": {},
   "outputs": [],
   "source": [
    "\n",
    "\n",
    "cancer = load_breast_cancer()\n",
    "X, y = cancer['data'], cancer[\"target\"]\n",
    "print(X.shape, y.shape)\n",
    "#베이스라인으로 그냥 돌려보고 생각을 해보자\n",
    "#뭘 없앨지 -> 수치를 높이기 위해\n",
    "\n",
    "#애매한 이유\n",
    "#궁금한 것\n"
   ]
  },
  {
   "cell_type": "code",
   "execution_count": null,
   "id": "5df18ac1",
   "metadata": {},
   "outputs": [],
   "source": [
    "scaler = StandardScaler()\n",
    "X_scaled = scaler.fit_transform(X)"
   ]
  },
  {
   "cell_type": "code",
   "execution_count": null,
   "id": "b60064e6",
   "metadata": {},
   "outputs": [],
   "source": [
    "%pip install mglearn"
   ]
  },
  {
   "cell_type": "code",
   "execution_count": null,
   "id": "69b5e78c",
   "metadata": {},
   "outputs": [],
   "source": [
    "#algorithm \n",
    "    #kd_tree\n",
    "    #ball_tree\n",
    "    #bruite 희소 행렬\n",
    "#metric\n",
    "#   minkowski\n",
    "#n_jobs : int, default=None\n",
    "    # -1 cpu 최대로"
   ]
  },
  {
   "cell_type": "markdown",
   "id": "caff595c",
   "metadata": {},
   "source": [
    "\n",
    "#회귀"
   ]
  },
  {
   "cell_type": "code",
   "execution_count": null,
   "id": "dd35fd89",
   "metadata": {},
   "outputs": [],
   "source": []
  },
  {
   "cell_type": "code",
   "execution_count": null,
   "id": "f2ab181b",
   "metadata": {},
   "outputs": [],
   "source": [
    "\n",
    "\n",
    "housing = fetch_california_housing()\n",
    "X, y = housing[\"data\"], housing[\"target\"]\n",
    "\n",
    "X_train, X_test, y_train, y_test = train_test_split(X, y, random_state=42)\n",
    "\n",
    "knn = KNeighborsRegressor()  # KNN 회귀 모델 생성\n",
    "knn.fit(X_train, y_train)    # 학습\n",
    "\n",
    "y_pred = knn.predict(X_test) # 예측\n",
    "print(mean_squared_error(y_test, y_pred))  # MSE 출력\n"
   ]
  },
  {
   "cell_type": "code",
   "execution_count": null,
   "id": "320f8cbc",
   "metadata": {},
   "outputs": [],
   "source": [
    "# 데이터 불러오기\n",
    "housing = fetch_california_housing()\n",
    "X, y = housing[\"data\"], housing[\"target\"]\n",
    "\n",
    "# 데이터 분할\n",
    "X_train, X_test, y_train, y_test = train_test_split(X, y, random_state=42)\n",
    "\n",
    "# KNN 회귀 모델 학습\n",
    "knn = KNeighborsRegressor()\n",
    "knn.fit(X_train, y_train)\n",
    "\n",
    "# 예측\n",
    "y_pred = knn.predict(X_test)\n",
    "\n"
   ]
  },
  {
   "cell_type": "code",
   "execution_count": null,
   "id": "e656ae58",
   "metadata": {},
   "outputs": [],
   "source": [
    "# 산점도 그리기\n",
    "plt.figure(figsize=(10,6))\n",
    "plt.scatter(y_test, y_pred, alpha=0.5, color='cyan')\n",
    "plt.plot([0, 5], [0, 5], color='red')  # y=x 선\n",
    "plt.xlabel(\"Actual Values\")\n",
    "plt.ylabel(\"Predicted Values\")\n",
    "plt.show()"
   ]
  },
  {
   "cell_type": "code",
   "execution_count": null,
   "id": "fda1487f",
   "metadata": {},
   "outputs": [],
   "source": [
    "#L1 l2규제"
   ]
  },
  {
   "cell_type": "code",
   "execution_count": null,
   "id": "c6b2a9d5",
   "metadata": {},
   "outputs": [],
   "source": [
    "models = {\n",
    "    \"OLS\":LogisticRegression(penalty=None, max_iter=10000),\n",
    "    \"Ridge(L2)\": LogisticRegression(penalty='l2',solver=\"lbfgs\",max_iter=10000),\n",
    "    \"Lasso(L1)\": LogisticRegression(penalty='l1',solver=\"liblinear\",max_iter=10000),\n",
    "} "
   ]
  },
  {
   "cell_type": "markdown",
   "id": "a3d7992e",
   "metadata": {},
   "source": [
    "l2 y = aw + b 에서 w를 최대한 작게 만들고 양을 많이해서 찾고자 하는 기울기로 간다\n",
    "lbfgs는 학습 효율을 보조하기 위해서\n",
    "\n",
    "* l2는 일반화 성능에 관심이 있으면 L2를 선택하는 경향이 있음\n",
    "\n",
    "l1 은 주요한 특성을 스스로 고려하는 모델의 경우 선택하는 경향 => 모델 해석하는데 용이함\n"
   ]
  },
  {
   "cell_type": "code",
   "execution_count": null,
   "id": "c5b14a4e",
   "metadata": {},
   "outputs": [],
   "source": [
    "result = {}\n",
    "for name,model in models.items():\n",
    "    model.fit(X_train,y_train)\n",
    "    y_pred_prob = model.predict_proba(X_test)[:,1]\n",
    "    auc = roc_auc_score(y_test,y_pred_prob)\n",
    "    result[name] = auc\n",
    "\n",
    "    "
   ]
  },
  {
   "cell_type": "code",
   "execution_count": null,
   "id": "44f2f043",
   "metadata": {},
   "outputs": [],
   "source": [
    "#LogisticRegression C를 이용해서 규제 강도를 결정\n",
    "#C를 크게하면 없는 특성도 발연\n",
    "    #데이터가 많이 없을 때\n",
    "#작은 < 1.0 < 큰거\n",
    "# 강한 규제 < 일반 규제 < 규제를 해제\n",
    "lr =LogisticRegression(max_iter=5000)\n",
    "lr.fit(X_train,y_train)\n",
    "\n",
    "#훈련 및 예측이 굉장히 빠름(학습이 빠른건 아님)\n",
    "#파라미터에 비교적 둔감\n",
    "#고차원 희소 데이터에 잘 작동\n",
    "#단점 선형 모델보다 항상 낮은 성능"
   ]
  },
  {
   "cell_type": "markdown",
   "id": "1db1fcaa",
   "metadata": {},
   "source": [
    "#팔머 팽귄 문제\n",
    "- 1 : 데이터 불러오기\n",
    "- 2 : 데이터 분리\n",
    "- 3 : 모델 학스\n",
    "- 4 : 예측\n",
    "- 5 : 결과"
   ]
  },
  {
   "cell_type": "code",
   "execution_count": null,
   "id": "1e4419ed",
   "metadata": {},
   "outputs": [],
   "source": [
    "import pandas as pd\n",
    "from sklearn.model_selection import train_test_split\n",
    "from sklearn.neighbors import KNeighborsClassifier\n",
    "from sklearn.metrics import accuracy_score\n",
    "from sklearn.linear_model import LogisticRegression\n",
    "from sklearn.naive_bayes import GaussianNB"
   ]
  },
  {
   "cell_type": "code",
   "execution_count": null,
   "id": "4f767865",
   "metadata": {},
   "outputs": [],
   "source": [
    "df = pd.read_csv('penguins.csv')"
   ]
  },
  {
   "cell_type": "code",
   "execution_count": null,
   "id": "b6047d11",
   "metadata": {},
   "outputs": [],
   "source": [
    "df.head()"
   ]
  },
  {
   "cell_type": "code",
   "execution_count": null,
   "id": "fd6cd608",
   "metadata": {},
   "outputs": [],
   "source": [
    "df = df.fillna(0)\n",
    "df.info()"
   ]
  },
  {
   "cell_type": "code",
   "execution_count": null,
   "id": "b4b62379",
   "metadata": {},
   "outputs": [],
   "source": [
    "X = df.drop([\"species\",\"sex\",\"island\"],axis=1)\n",
    "y = df[\"species\"]\n",
    "print(X.shape,y.shape)"
   ]
  },
  {
   "cell_type": "code",
   "execution_count": null,
   "id": "b5722179",
   "metadata": {},
   "outputs": [],
   "source": [
    "X_train,X_test,y_train,y_test = train_test_split(X,y,random_state=42)"
   ]
  },
  {
   "cell_type": "code",
   "execution_count": null,
   "id": "04b23528",
   "metadata": {},
   "outputs": [],
   "source": [
    "knn = KNeighborsClassifier(n_neighbors=5)\n",
    "knn.fit(X_train,y_train)\n",
    "knn_y_pred = knn.predict(X_test)"
   ]
  },
  {
   "cell_type": "code",
   "execution_count": null,
   "id": "4543b678",
   "metadata": {},
   "outputs": [],
   "source": [
    "accuracy_score(y_test, y_pred)"
   ]
  },
  {
   "cell_type": "code",
   "execution_count": null,
   "id": "690ad508",
   "metadata": {},
   "outputs": [],
   "source": [
    "lr = LogisticRegression(max_iter=100)\n",
    "lr.fit(X_train,y_train)\n",
    "loc_y_pred = lr.predict(X_test)"
   ]
  },
  {
   "cell_type": "code",
   "execution_count": null,
   "id": "089d5f13",
   "metadata": {},
   "outputs": [],
   "source": [
    "gnb = GaussianNB()\n",
    "gnb.fit(X_train,y_train)\n",
    "gnb_y_pred = gnb.predict(X_test)"
   ]
  },
  {
   "cell_type": "code",
   "execution_count": null,
   "id": "6670ecf0",
   "metadata": {},
   "outputs": [],
   "source": [
    "\n",
    "print(accuracy_score(y_test,knn_y_pred))\n",
    "print(accuracy_score(y_test,loc_y_pred))\n",
    "print(accuracy_score(y_test,gnb_y_pred))"
   ]
  },
  {
   "cell_type": "code",
   "execution_count": null,
   "id": "b9ad8b14",
   "metadata": {},
   "outputs": [],
   "source": [
    "import mglearn\n",
    "import matplotlib.pyplot as plt"
   ]
  },
  {
   "cell_type": "code",
   "execution_count": null,
   "id": "184170cf",
   "metadata": {},
   "outputs": [],
   "source": [
    "\n",
    "X, y = mglearn.datasets.make_forge()\n",
    "\n",
    "mglearn.discrete_scatter(X[:,0],X[:,1],y)\n",
    "plt.legend([\"클래스 0\",\"클래스 1\"],loc=4)\n",
    "plt.xlabel(\"첫 번째 특성\")\n",
    "plt.ylabel(\"두 번째 특성\")\n",
    "print(f\"X.shape : {X.shape}\" )"
   ]
  },
  {
   "cell_type": "code",
   "execution_count": null,
   "id": "3afcf45e",
   "metadata": {},
   "outputs": [],
   "source": [
    "X"
   ]
  },
  {
   "cell_type": "code",
   "execution_count": null,
   "id": "2846553c",
   "metadata": {},
   "outputs": [],
   "source": [
    "X, y = mglearn.datasets.make_wave(n_samples=40)\n",
    "plt.plot(X,y,'o')\n",
    "plt.ylim(-3,3)\n",
    "plt.xlabel(\"특성\")\n",
    "plt.ylabel(\"타깃\")"
   ]
  },
  {
   "cell_type": "code",
   "execution_count": null,
   "id": "6cab9ed7",
   "metadata": {},
   "outputs": [],
   "source": [
    "from sklearn.datasets import load_breast_cancer\n",
    "from sklearn.model_selection import train_test_split"
   ]
  },
  {
   "cell_type": "code",
   "execution_count": null,
   "id": "f02545d9",
   "metadata": {},
   "outputs": [],
   "source": [
    "\n",
    "cancer = load_breast_cancer()\n",
    "print(\"cancer.keys():\\n\",cancer.keys())\n",
    "X_train, X_test, y_train,y_test = train_test_split(cancer['data'],cancer['target'],random_state=42)\n",
    "X_train.shape, y_train.shape"
   ]
  },
  {
   "cell_type": "code",
   "execution_count": null,
   "id": "1e822c62",
   "metadata": {},
   "outputs": [],
   "source": [
    "import pandas as pd\n",
    "import numpy as np\n",
    "data_url = \"http://lib.stat.cmu.edu/datasets/boston\"\n",
    "raw_df = pd.read_csv(data_url, sep=\"\\s+\", skiprows=22, header=None)\n",
    "data = np.hstack([raw_df.values[::2,:], raw_df.values[1::2,:2]])\n",
    "target = raw_df.values[1::2,2]\n",
    "\n"
   ]
  },
  {
   "cell_type": "code",
   "execution_count": null,
   "id": "cce80030",
   "metadata": {},
   "outputs": [],
   "source": [
    "print(\"데이터의 형태:\",data.shape)\n",
    "print(\"데이터의 형태:\",target.shape)"
   ]
  },
  {
   "cell_type": "code",
   "execution_count": null,
   "id": "778138a9",
   "metadata": {},
   "outputs": [],
   "source": [
    "raw_df.info()\n",
    "raw_df.head()\n"
   ]
  },
  {
   "cell_type": "code",
   "execution_count": null,
   "id": "448e59ad",
   "metadata": {},
   "outputs": [],
   "source": [
    "raw_df.fillna(raw_df.median(axis=0))"
   ]
  },
  {
   "cell_type": "code",
   "execution_count": 22,
   "id": "9048f227",
   "metadata": {},
   "outputs": [],
   "source": [
    "from sklearn.linear_model import Ridge\n",
    "from sklearn.model_selection import train_test_split\n",
    "import mglearn\n",
    "from sklearn.linear_model import LinearRegression\n",
    "import matplotlib.pyplot as plt"
   ]
  },
  {
   "cell_type": "code",
   "execution_count": 20,
   "id": "9f89afc3",
   "metadata": {},
   "outputs": [
    {
     "name": "stdout",
     "output_type": "stream",
     "text": [
      "훈련 세트 점수: 0.94\n",
      "테스트 세트 점수: 0.78\n",
      "훈련 세트 점수: 0.94\n",
      "테스트 세트 점수: 0.81\n"
     ]
    }
   ],
   "source": [
    "X, y = mglearn.datasets.load_extended_boston()\n",
    "X_train,X_test,y_train,y_test = train_test_split(X,y,random_state=42)\n",
    "lr = LinearRegression().fit(X_train,y_train)\n",
    "\n",
    "print(\"훈련 세트 점수: {:.2f}\".format(lr.score(X_train,y_train)))\n",
    "print(\"테스트 세트 점수: {:.2f}\".format(lr.score(X_test,y_test)))\n",
    "ridge = Ridge(alpha=0.01).fit(X_train, y_train)\n",
    "\n",
    "print(\"훈련 세트 점수: {:.2f}\".format(ridge.score(X_train,y_train)))\n",
    "print(\"테스트 세트 점수: {:.2f}\".format(ridge.score(X_test,y_test)))"
   ]
  },
  {
   "cell_type": "code",
   "execution_count": 27,
   "id": "13184c31",
   "metadata": {},
   "outputs": [
    {
     "name": "stdout",
     "output_type": "stream",
     "text": [
      "훈련 세트 점수: 0.77\n",
      "테스트 세트 점수: 0.73\n"
     ]
    },
    {
     "data": {
      "text/plain": [
       "array([-8.74524970e-01,  3.74153966e-01, -5.37191658e-01,  4.53586968e-01,\n",
       "       -8.15963925e-01,  4.80636190e+00, -2.88506643e-01, -2.38249397e+00,\n",
       "        9.93098394e-01, -9.07184758e-01, -1.99590641e+00,  1.23744798e+00,\n",
       "       -4.24598011e+00, -7.73437857e-01,  3.42301983e-03, -5.66607754e-01,\n",
       "        2.50207988e-01, -6.47237726e-01, -7.68604076e-01, -7.85761746e-01,\n",
       "       -7.62482023e-02, -8.97956236e-01, -8.15721900e-01, -7.27219784e-01,\n",
       "       -7.23636498e-01, -5.05561216e-01,  6.41377060e-01, -2.03532600e-01,\n",
       "        7.22065507e-01,  2.91451872e-01,  1.51896935e+00, -8.91051400e-02,\n",
       "       -2.34537621e-01, -5.53427855e-02, -1.98367137e-01, -3.48947550e-02,\n",
       "        4.03606579e-01, -5.53847205e-01,  7.58993451e-01,  3.93520570e-01,\n",
       "       -7.78852421e-01, -4.83501941e-01,  1.80828848e-01, -1.04042906e+00,\n",
       "        3.41226328e-01,  5.57759083e-01, -4.85625572e-01,  3.00283500e-01,\n",
       "       -1.44355231e+00,  4.53586968e-01, -1.13170406e+00,  7.10542026e-01,\n",
       "        3.68804814e-01, -1.54611682e-01,  1.71374152e+00,  1.44632723e+00,\n",
       "        6.13884514e-01,  8.49642507e-01, -1.38390111e+00, -1.76929503e+00,\n",
       "       -8.20168708e-02, -8.47510314e-01, -6.15145473e-01, -5.27860727e-01,\n",
       "       -9.17081862e-01, -1.35110664e+00,  1.01245821e-01, -1.66424625e+00,\n",
       "        7.81843297e+00,  1.71403570e+00,  5.74254353e-01, -1.13280060e+00,\n",
       "       -1.70050980e+00, -8.32443540e-01,  5.76814066e+00, -3.21345925e+00,\n",
       "        6.69065589e-01, -1.95303761e+00,  8.72963954e-01, -1.61656175e-01,\n",
       "       -2.04050232e+00,  5.01511853e-01, -3.23341153e+00, -9.44063445e-01,\n",
       "       -5.50620473e-01, -1.28111249e+00, -1.37127880e+00, -2.21535625e+00,\n",
       "       -1.40994192e+00,  6.06522337e-01,  3.77093520e-01,  3.65102403e-01,\n",
       "        1.58470380e+00, -2.13836494e+00,  2.35581546e-01, -3.43599950e-01,\n",
       "       -9.29790951e-02, -2.23143553e+00, -1.32698752e+00, -1.41666110e+00,\n",
       "       -2.23993441e+00,  9.26472183e-01, -3.55520243e+00,  1.81053143e-01])"
      ]
     },
     "execution_count": 27,
     "metadata": {},
     "output_type": "execute_result"
    },
    {
     "data": {
      "image/png": "[encoded data removed]",
      "text/plain": [
       "<Figure size 640x480 with 1 Axes>"
      ]
     },
     "metadata": {},
     "output_type": "display_data"
    }
   ],
   "source": [
    "ridge10 = Ridge(alpha=10).fit(X_train, y_train)\n",
    "print(\"훈련 세트 점수: {:.2f}\".format(ridge10.score(X_train,y_train)))\n",
    "print(\"테스트 세트 점수: {:.2f}\".format(ridge10.score(X_test,y_test)))\n",
    "\n",
    "\n",
    "plt.plot(ridge10.coef_)\n",
    "ridge10.coef_"
   ]
  },
  {
   "cell_type": "code",
   "execution_count": 29,
   "id": "31d08a7f",
   "metadata": {},
   "outputs": [
    {
     "name": "stdout",
     "output_type": "stream",
     "text": [
      "훈련 세트 점수: 0.92\n",
      "테스트 세트 점수: 0.82\n"
     ]
    },
    {
     "data": {
      "text/plain": [
       "array([-3.36994290e+00, -4.55190759e+00, -4.74074443e+00,  6.15408550e+00,\n",
       "        7.81347201e+00,  2.21689199e+01,  3.81452328e+00, -1.01476683e+01,\n",
       "        1.33231358e+01,  1.02318222e+00, -8.94490702e-01,  1.07107600e+01,\n",
       "       -3.92650132e+00,  5.16327176e+00,  1.13872172e-02, -1.66222209e+00,\n",
       "        1.00409642e+01, -1.65391325e+00,  3.93109854e+00, -4.56395574e+00,\n",
       "       -2.20183915e-01, -4.30371408e+00, -3.35451499e+00, -3.28745746e+00,\n",
       "        1.65616423e+00, -1.11100717e-03,  2.86959722e+00, -1.66212151e+00,\n",
       "        7.00989388e+00,  1.79165465e+00,  5.61350816e+00, -2.47866008e+00,\n",
       "       -1.22529694e+00, -2.15501876e+00,  8.45630083e+00,  5.28803385e+00,\n",
       "       -3.07510884e+00, -6.26997306e+00,  6.01995793e+00,  3.80477125e+00,\n",
       "        7.28701883e+00,  2.94301008e+00,  4.47299605e+00, -4.34734959e+00,\n",
       "        3.22661120e+00,  6.60392499e+00, -8.01387571e+00,  1.55194737e+00,\n",
       "       -1.33452450e+01,  6.15408550e+00, -1.47259032e+01, -1.83724438e+01,\n",
       "        3.61720666e+00, -6.96405334e+00,  4.53958854e+00,  6.61560864e+00,\n",
       "       -2.56228229e+00,  7.06729514e-01, -6.75555699e+00, -4.08825112e+00,\n",
       "       -3.96364012e+00, -6.59748835e+00,  2.08144205e+00, -2.95026844e+00,\n",
       "       -4.03956792e-01, -4.65737793e+00, -5.01945641e+00,  5.77831602e+00,\n",
       "        2.37100403e+01, -5.43146129e+00,  4.73320460e+00, -1.96719035e+01,\n",
       "       -1.82954446e+01, -1.47897824e+01,  6.66270829e+00, -4.93360653e+00,\n",
       "        2.43812501e-01,  1.72215733e+00,  1.09913306e+01, -1.99395265e+00,\n",
       "       -9.49998567e-01, -4.90132307e+00, -1.05783895e+01,  9.37647353e+00,\n",
       "       -5.14162101e-01, -5.12041020e+00,  1.54065934e-01, -1.02843716e+01,\n",
       "        5.72025731e+00, -8.76879581e+00,  2.48252789e+00,  6.35904037e+00,\n",
       "        1.64008167e+00, -1.73066887e+01,  3.08942606e-01,  1.13578165e+01,\n",
       "       -2.77461062e+00, -1.53755089e+01,  3.86614954e+00, -2.22244501e+00,\n",
       "        3.12050996e+00,  1.45340353e+00, -6.56679010e+00,  2.62361725e+01])"
      ]
     },
     "execution_count": 29,
     "metadata": {},
     "output_type": "execute_result"
    },
    {
     "data": {
      "image/png": "[encoded data removed]",
      "text/plain": [
       "<Figure size 640x480 with 1 Axes>"
      ]
     },
     "metadata": {},
     "output_type": "display_data"
    }
   ],
   "source": [
    "ridge01 = Ridge(alpha=0.1).fit(X_train, y_train)\n",
    "print(\"훈련 세트 점수: {:.2f}\".format(ridge01.score(X_train,y_train)))\n",
    "print(\"테스트 세트 점수: {:.2f}\".format(ridge01.score(X_test,y_test)))\n",
    "\n",
    "plt.plot(ridge01.coef_)\n",
    "ridge01.coef_"
   ]
  },
  {
   "cell_type": "code",
   "execution_count": 30,
   "id": "d9f8c69b",
   "metadata": {},
   "outputs": [
    {
     "name": "stdout",
     "output_type": "stream",
     "text": [
      "훈련 세트 점수: 0.56\n",
      "테스트 세트 점수: 0.55\n"
     ]
    },
    {
     "data": {
      "text/plain": [
       "array([-2.72887569e-01,  4.08900513e-01, -5.97713878e-01,  6.29081693e-01,\n",
       "       -4.63913574e-01,  1.73793977e+00, -2.77523689e-01, -3.97586257e-01,\n",
       "       -3.95031009e-02, -4.95196399e-01, -1.23380559e+00,  6.88052428e-01,\n",
       "       -1.94182924e+00, -1.60708323e-01,  1.21513641e-03, -1.77796257e-01,\n",
       "        4.68458165e-02, -1.87986973e-01, -1.33082706e-01, -2.52522503e-01,\n",
       "       -1.44022227e-02, -2.68845155e-01, -2.48006117e-01, -2.25028956e-01,\n",
       "       -1.83298699e-01, -2.00352418e-01,  2.89002391e-01,  1.12522383e-02,\n",
       "        1.71790433e-01,  1.08684195e-01,  5.02444604e-01,  1.39883541e-01,\n",
       "        2.97959904e-02,  3.42831346e-02,  2.38463538e-02, -2.43737913e-02,\n",
       "        4.09325442e-01, -7.04613338e-02, -3.17407675e-01,  3.22345091e-01,\n",
       "       -5.18569462e-01,  1.04209098e-01, -4.82379168e-01, -1.82519737e-01,\n",
       "       -1.53087150e-01, -2.65071687e-01, -6.25184481e-01, -1.56240037e-01,\n",
       "       -1.00069404e+00,  6.29081693e-01,  6.92581575e-02,  5.93725156e-01,\n",
       "        4.76520463e-01,  7.62703000e-02,  5.63605286e-01,  5.10602011e-01,\n",
       "        3.98428794e-01,  6.70448463e-01, -1.88964050e-01, -6.21613268e-01,\n",
       "        2.70317720e-01, -4.67939364e-01, -1.03188833e-01, -2.55534701e-01,\n",
       "       -4.44184473e-01, -6.33890336e-01,  1.56346284e-03, -9.61214351e-01,\n",
       "        2.27322023e+00,  9.66655027e-01,  2.13218555e-01,  1.88515771e-01,\n",
       "        5.02923776e-02, -4.00557191e-02,  2.07059957e+00, -7.89814601e-01,\n",
       "       -2.78426609e-01, -3.47634014e-01, -9.77086534e-02, -4.25485445e-01,\n",
       "       -1.08885874e+00,  2.96983667e-01, -1.62832917e+00, -2.73751598e-01,\n",
       "       -6.28807296e-02, -1.87216019e-01, -4.68856238e-01, -3.22852593e-01,\n",
       "       -4.07682156e-01, -1.40872814e-01, -1.91378051e-01, -2.47311226e-01,\n",
       "        4.50097485e-01, -8.71580541e-01, -3.20557230e-01, -5.52269633e-01,\n",
       "        2.24688096e-02, -1.03940637e+00, -1.19449909e+00, -7.35306753e-01,\n",
       "       -1.35341609e+00,  7.50042644e-01, -1.51025718e+00, -1.06314518e+00])"
      ]
     },
     "execution_count": 30,
     "metadata": {},
     "output_type": "execute_result"
    },
    {
     "data": {
      "image/png": "[encoded data removed]",
      "text/plain": [
       "<Figure size 640x480 with 1 Axes>"
      ]
     },
     "metadata": {},
     "output_type": "display_data"
    }
   ],
   "source": [
    "ridge100 = Ridge(alpha=100).fit(X_train, y_train)\n",
    "print(\"훈련 세트 점수: {:.2f}\".format(ridge100.score(X_train,y_train)))\n",
    "print(\"테스트 세트 점수: {:.2f}\".format(ridge100.score(X_test,y_test)))\n",
    "\n",
    "plt.plot(ridge100.coef_)\n",
    "ridge100.coef_"
   ]
  },
  {
   "cell_type": "code",
   "execution_count": 33,
   "id": "ccc65f03",
   "metadata": {},
   "outputs": [
    {
     "data": {
      "text/plain": [
       "<matplotlib.legend.Legend at 0x2b3397c2f70>"
      ]
     },
     "execution_count": 33,
     "metadata": {},
     "output_type": "execute_result"
    },
    {
     "name": "stderr",
     "output_type": "stream",
     "text": [
      "c:\\CODE\\머신러닝\\.venv\\lib\\site-packages\\IPython\\core\\events.py:82: UserWarning: Glyph 53945 (\\N{HANGUL SYLLABLE TEUG}) missing from current font.\n",
      "  func(*args, **kwargs)\n",
      "c:\\CODE\\머신러닝\\.venv\\lib\\site-packages\\IPython\\core\\events.py:82: UserWarning: Glyph 49457 (\\N{HANGUL SYLLABLE SEONG}) missing from current font.\n",
      "  func(*args, **kwargs)\n",
      "c:\\CODE\\머신러닝\\.venv\\lib\\site-packages\\IPython\\core\\pylabtools.py:152: UserWarning: Glyph 53945 (\\N{HANGUL SYLLABLE TEUG}) missing from current font.\n",
      "  fig.canvas.print_figure(bytes_io, **kw)\n",
      "c:\\CODE\\머신러닝\\.venv\\lib\\site-packages\\IPython\\core\\pylabtools.py:152: UserWarning: Glyph 49457 (\\N{HANGUL SYLLABLE SEONG}) missing from current font.\n",
      "  fig.canvas.print_figure(bytes_io, **kw)\n"
     ]
    },
    {
     "data": {
      "image/png": "[encoded data removed]",
      "text/plain": [
       "<Figure size 1000x300 with 2 Axes>"
      ]
     },
     "metadata": {},
     "output_type": "display_data"
    }
   ],
   "source": [
    "import mglearn.datasets\n",
    "from sklearn.linear_model import LogisticRegression\n",
    "from sklearn.svm import LinearSVC\n",
    "\n",
    "X,y = mglearn.datasets.make_forge()\n",
    "\n",
    "fig, axes = plt.subplots(1,2, figsize=(10,3))\n",
    "\n",
    "for model, ax in zip([LinearSVC(max_iter=5000),LogisticRegression()],axes):\n",
    "    clf = model.fit(X,y)\n",
    "    mglearn.plots.plot_2d_separator(clf, X, fill=False, eps=0.5,ax=ax, alpha=0.7)\n",
    "    mglearn.discrete_scatter(X[:,0], X[:, 1],y,ax=ax)\n",
    "    ax.set_title(clf.__class__.__name__)\n",
    "    ax.set_xlabel(\"특성 0\")\n",
    "    ax.set_ylabel(\"특성 1\")\n",
    "axes[0].legend()"
   ]
  },
  {
   "cell_type": "code",
   "execution_count": 35,
   "id": "5a129e54",
   "metadata": {},
   "outputs": [
    {
     "data": {
      "text/plain": [
       "(array([[ 9.96346605,  4.59676542],\n",
       "        [11.0329545 , -0.16816717],\n",
       "        [11.54155807,  5.21116083],\n",
       "        [ 8.69289001,  1.54322016],\n",
       "        [ 8.1062269 ,  4.28695977],\n",
       "        [ 8.30988863,  4.80623966],\n",
       "        [11.93027136,  4.64866327],\n",
       "        [ 9.67284681, -0.20283165],\n",
       "        [ 8.34810316,  5.13415623],\n",
       "        [ 8.67494727,  4.47573059],\n",
       "        [ 9.17748385,  5.09283177],\n",
       "        [10.24028948,  2.45544401],\n",
       "        [ 8.68937095,  1.48709629],\n",
       "        [ 8.92229526, -0.63993225],\n",
       "        [ 9.49123469,  4.33224792],\n",
       "        [ 9.25694192,  5.13284858],\n",
       "        [ 7.99815287,  4.8525051 ],\n",
       "        [ 8.18378052,  1.29564214],\n",
       "        [ 8.7337095 ,  2.49162431],\n",
       "        [ 9.32298256,  5.09840649],\n",
       "        [10.06393839,  0.99078055],\n",
       "        [ 9.50048972, -0.26430318],\n",
       "        [ 8.34468785,  1.63824349],\n",
       "        [ 9.50169345,  1.93824624],\n",
       "        [ 9.15072323,  5.49832246],\n",
       "        [11.563957  ,  1.3389402 ]]),\n",
       " array([1, 0, 1, 0, 0, 1, 1, 0, 1, 1, 1, 1, 0, 0, 1, 1, 1, 0, 0, 1, 0, 0,\n",
       "        0, 0, 1, 0]))"
      ]
     },
     "execution_count": 35,
     "metadata": {},
     "output_type": "execute_result"
    }
   ],
   "source": [
    "X, y"
   ]
  },
  {
   "cell_type": "code",
   "execution_count": 6,
   "id": "b09877d1",
   "metadata": {},
   "outputs": [],
   "source": [
    "from sklearn.datasets import load_breast_cancer\n",
    "from sklearn.model_selection import train_test_split\n",
    "from sklearn.linear_model import LogisticRegression"
   ]
  },
  {
   "cell_type": "code",
   "execution_count": 14,
   "id": "b11cb41f",
   "metadata": {},
   "outputs": [],
   "source": [
    "cancer = load_breast_cancer()\n",
    "X_train,X_test,y_train,y_test = train_test_split(cancer.data, cancer.target,random_state=42)"
   ]
  },
  {
   "cell_type": "code",
   "execution_count": 33,
   "id": "f10b2216",
   "metadata": {},
   "outputs": [],
   "source": [
    "logreg = LogisticRegression(C=100,max_iter=5000).fit(X_train,y_train)"
   ]
  },
  {
   "cell_type": "code",
   "execution_count": 34,
   "id": "4f26f4b4",
   "metadata": {},
   "outputs": [
    {
     "name": "stdout",
     "output_type": "stream",
     "text": [
      "훈련 세트 점수 :0.9788732394366197\n",
      "테스트 세트 점수 :0.965034965034965\n"
     ]
    }
   ],
   "source": [
    "print(f\"훈련 세트 점수 :{logreg.score(X_train,y_train)}\")\n",
    "print(f\"테스트 세트 점수 :{logreg.score(X_test,y_test)}\")"
   ]
  }
 ],
 "metadata": {
  "kernelspec": {
   "display_name": ".venv",
   "language": "python",
   "name": "python3"
  },
  "language_info": {
   "codemirror_mode": {
    "name": "ipython",
    "version": 3
   },
   "file_extension": ".py",
   "mimetype": "text/x-python",
   "name": "python",
   "nbconvert_exporter": "python",
   "pygments_lexer": "ipython3",
   "version": "3.9.13"
  }
 },
 "nbformat": 4,
 "nbformat_minor": 5
}
